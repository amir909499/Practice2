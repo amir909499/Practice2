{
 "cells": [
  {
   "cell_type": "code",
   "execution_count": 1,
   "id": "ddb3b2a1-27a3-413e-bfbd-19e8c2a6437e",
   "metadata": {},
   "outputs": [],
   "source": [
    "def a(a,b):\n",
    "    c=a+b\n",
    "    return c"
   ]
  },
  {
   "cell_type": "code",
   "execution_count": 2,
   "id": "bac26beb-7655-4383-ab2f-cf6a4bbba9ff",
   "metadata": {},
   "outputs": [
    {
     "data": {
      "text/plain": [
       "40"
      ]
     },
     "execution_count": 2,
     "metadata": {},
     "output_type": "execute_result"
    }
   ],
   "source": [
    "a(20,20)"
   ]
  },
  {
   "cell_type": "code",
   "execution_count": 3,
   "id": "b1facc52-acf5-4f7f-a0bc-cbde0664929d",
   "metadata": {},
   "outputs": [],
   "source": [
    "def a(a,b):\n",
    "    c=a-b\n",
    "    return c"
   ]
  },
  {
   "cell_type": "code",
   "execution_count": 4,
   "id": "8d69d025-d48d-492f-8720-9ec19e57028e",
   "metadata": {},
   "outputs": [
    {
     "data": {
      "text/plain": [
       "20"
      ]
     },
     "execution_count": 4,
     "metadata": {},
     "output_type": "execute_result"
    }
   ],
   "source": [
    "a(40,20)"
   ]
  },
  {
   "cell_type": "code",
   "execution_count": 5,
   "id": "9d93716c-3013-4bd5-be45-9622b7a9b797",
   "metadata": {},
   "outputs": [],
   "source": [
    "def a(a,b):\n",
    "    c=a*b\n",
    "    return c"
   ]
  },
  {
   "cell_type": "code",
   "execution_count": 6,
   "id": "6401cab6-8d01-4823-a3fa-c29f08ce2595",
   "metadata": {},
   "outputs": [
    {
     "data": {
      "text/plain": [
       "400"
      ]
     },
     "execution_count": 6,
     "metadata": {},
     "output_type": "execute_result"
    }
   ],
   "source": [
    "a(20,20)"
   ]
  },
  {
   "cell_type": "code",
   "execution_count": null,
   "id": "41f4b580-1842-436c-9e37-9e9d13fa70ec",
   "metadata": {},
   "outputs": [],
   "source": [
    "def a(a,b):\n",
    "    c=a//"
   ]
  }
 ],
 "metadata": {
  "kernelspec": {
   "display_name": "Python 3 (ipykernel)",
   "language": "python",
   "name": "python3"
  },
  "language_info": {
   "codemirror_mode": {
    "name": "ipython",
    "version": 3
   },
   "file_extension": ".py",
   "mimetype": "text/x-python",
   "name": "python",
   "nbconvert_exporter": "python",
   "pygments_lexer": "ipython3",
   "version": "3.8.1"
  }
 },
 "nbformat": 4,
 "nbformat_minor": 5
}
